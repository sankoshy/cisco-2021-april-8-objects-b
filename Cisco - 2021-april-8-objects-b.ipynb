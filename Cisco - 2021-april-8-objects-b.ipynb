{
 "cells": [
  {
   "cell_type": "markdown",
   "metadata": {},
   "source": [
    "# Agenda\n",
    "\n",
    "1. What is an object?  And why do we care?\n",
    "2. Attributes -- what are they?\n",
    "3. Creating classes\n",
    "4. Creating instances\n",
    "5. Adding attributes to our instances\n",
    "6. The `__init__` method -- what does it do?\n",
    "7. Other methods \n",
    "8. Class attributes and instance attributes\n",
    "9. Turning our objects into strings"
   ]
  },
  {
   "cell_type": "markdown",
   "metadata": {},
   "source": [
    "# Vocabulary\n",
    "\n",
    "- Object — a data structure, or a piece of data in memory. Variables and attributes refer to objects. \n",
    "- Class - factory for objects. Also known as a \"type.\" The type of an object determines what kind of data it stores, and what it can do. Classes are factories for objects; they create new objects.\n",
    "- Methods -- the messages that an object can send to another object. You can also think of methods as functions that belong to an object."
   ]
  },
  {
   "cell_type": "code",
   "execution_count": 1,
   "metadata": {},
   "outputs": [
    {
     "data": {
      "text/plain": [
       "'ABCDE'"
      ]
     },
     "execution_count": 1,
     "metadata": {},
     "output_type": "execute_result"
    }
   ],
   "source": [
    "s = 'abcde'\n",
    "\n",
    "s.upper()   # this is the \"upper\" method being invoked on the string s"
   ]
  },
  {
   "cell_type": "markdown",
   "metadata": {},
   "source": [
    "# What does it mean for everything to be an object?\n",
    "\n",
    "1. Everything has an ID number uniquely identifying it.\n",
    "2. Everything has a type, or a class that made it.\n",
    "3. Everything has attributes."
   ]
  },
  {
   "cell_type": "code",
   "execution_count": 3,
   "metadata": {},
   "outputs": [
    {
     "data": {
      "text/plain": [
       "4562187728"
      ]
     },
     "execution_count": 3,
     "metadata": {},
     "output_type": "execute_result"
    }
   ],
   "source": [
    "n = 100\n",
    "id(n)  # we're not getting the ID of the n variable, but rather of the number it refers to"
   ]
  },
  {
   "cell_type": "code",
   "execution_count": null,
   "metadata": {},
   "outputs": [],
   "source": []
  }
 ],
 "metadata": {
  "kernelspec": {
   "display_name": "Python 3",
   "language": "python",
   "name": "python3"
  },
  "language_info": {
   "codemirror_mode": {
    "name": "ipython",
    "version": 3
   },
   "file_extension": ".py",
   "mimetype": "text/x-python",
   "name": "python",
   "nbconvert_exporter": "python",
   "pygments_lexer": "ipython3",
   "version": "3.9.4"
  }
 },
 "nbformat": 4,
 "nbformat_minor": 4
}
